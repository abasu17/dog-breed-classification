{
 "cells": [
  {
   "cell_type": "code",
   "execution_count": 48,
   "metadata": {},
   "outputs": [],
   "source": [
    "from tensorflow.keras.applications import ResNet50\n",
    "from tensorflow.python.keras.models import Sequential\n",
    "from tensorflow.python.keras.layers import Dense\n",
    "\n",
    "from keras.applications.imagenet_utils import preprocess_input\n",
    "from keras.models import load_model\n",
    "from keras.preprocessing import image\n",
    "\n",
    "import numpy as np"
   ]
  },
  {
   "cell_type": "code",
   "execution_count": 72,
   "metadata": {},
   "outputs": [],
   "source": [
    "DENSE_ACTIVATION = \"softmax\""
   ]
  },
  {
   "cell_type": "code",
   "execution_count": 73,
   "metadata": {},
   "outputs": [],
   "source": [
    "selected_labels = [\n",
    "    \"beagle\", \n",
    "    \"chihuahua\", \n",
    "    \"doberman\", \n",
    "    \"french_bulldog\", \n",
    "    \"golden_retriever\", \n",
    "    \"malamute\", \n",
    "    \"pug\", \n",
    "    \"saint_bernard\", \n",
    "    \"scottish_deerhound\", \n",
    "    \"tibetan_mastiff\"]\n",
    "\n",
    "CLASSES = len(selected_labels)"
   ]
  },
  {
   "cell_type": "code",
   "execution_count": 74,
   "metadata": {},
   "outputs": [],
   "source": [
    "def initiate_model():\n",
    "    global model \n",
    "    model = Sequential()\n",
    "    model.add(ResNet50(include_top = True, pooling = \"avg\", weights = \"imagenet\"))\n",
    "    model.add(Dense(CLASSES, activation = DENSE_ACTIVATION))\n",
    "    model.layers[0].trainable = False\n",
    "    model.load_weights(\"./new_model.hdf5\")"
   ]
  },
  {
   "cell_type": "code",
   "execution_count": 91,
   "metadata": {},
   "outputs": [],
   "source": [
    "def classify_image(image_path):\n",
    "    original = image.load_img(image_path, target_size=(224, 224))\n",
    "    numpy_image = image.img_to_array(original)\n",
    "    image_batch = np.expand_dims(numpy_image, axis=0)\n",
    "    processed_image = preprocess_input(image_batch, mode='tf')\n",
    "    preds = model.predict(processed_image)\n",
    "    breed, score = max(zip(selected_labels, preds[0]), key=lambda x: x[-1])\n",
    "\n",
    "    return {\"breed\" : breed, \"score\" : score }"
   ]
  },
  {
   "cell_type": "code",
   "execution_count": 92,
   "metadata": {},
   "outputs": [],
   "source": [
    "image_path = \"./test/1c16315c9efe0ea92a38cdd20aa9d624.jpg\"\n",
    "initiate_model()"
   ]
  },
  {
   "cell_type": "code",
   "execution_count": 93,
   "metadata": {},
   "outputs": [
    {
     "name": "stdout",
     "output_type": "stream",
     "text": [
      "WARNING:tensorflow:7 out of the last 8 calls to <function Model.make_predict_function.<locals>.predict_function at 0x7f163af0d2f0> triggered tf.function retracing. Tracing is expensive and the excessive number of tracings could be due to (1) creating @tf.function repeatedly in a loop, (2) passing tensors with different shapes, (3) passing Python objects instead of tensors. For (1), please define your @tf.function outside of the loop. For (2), @tf.function has experimental_relax_shapes=True option that relaxes argument shapes that can avoid unnecessary retracing. For (3), please refer to https://www.tensorflow.org/guide/function#controlling_retracing and https://www.tensorflow.org/api_docs/python/tf/function for  more details.\n"
     ]
    },
    {
     "data": {
      "text/plain": [
       "{'breed': 'tibetan_mastiff', 'score': 0.100692585}"
      ]
     },
     "execution_count": 93,
     "metadata": {},
     "output_type": "execute_result"
    }
   ],
   "source": [
    "classify_image(image_path)"
   ]
  },
  {
   "cell_type": "code",
   "execution_count": 90,
   "metadata": {},
   "outputs": [
    {
     "data": {
      "text/plain": [
       "array([[0.09990852, 0.09955728, 0.09985697, 0.09963106, 0.10047741,\n",
       "        0.0993121 , 0.1002064 , 0.09981777, 0.10053989, 0.10069259]],\n",
       "      dtype=float32)"
      ]
     },
     "execution_count": 90,
     "metadata": {},
     "output_type": "execute_result"
    }
   ],
   "source": [
    "preds"
   ]
  },
  {
   "cell_type": "code",
   "execution_count": null,
   "metadata": {},
   "outputs": [],
   "source": []
  }
 ],
 "metadata": {
  "kernelspec": {
   "display_name": "Python 3",
   "language": "python",
   "name": "python3"
  },
  "language_info": {
   "codemirror_mode": {
    "name": "ipython",
    "version": 3
   },
   "file_extension": ".py",
   "mimetype": "text/x-python",
   "name": "python",
   "nbconvert_exporter": "python",
   "pygments_lexer": "ipython3",
   "version": "3.6.9"
  }
 },
 "nbformat": 4,
 "nbformat_minor": 4
}
